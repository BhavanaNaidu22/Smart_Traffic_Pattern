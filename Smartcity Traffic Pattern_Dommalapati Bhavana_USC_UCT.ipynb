{
 "cells": [
  {
   "cell_type": "code",
   "execution_count": 1,
   "id": "c497bf93",
   "metadata": {},
   "outputs": [],
   "source": [
    "import numpy as np # linear algebra\n",
    "import pandas as pd # data processing, CSV file I/O (e.g. pd.read_csv)"
   ]
  },
  {
   "cell_type": "code",
   "execution_count": 2,
   "id": "7850eff0",
   "metadata": {},
   "outputs": [],
   "source": [
    "def datetounix(df):\n",
    "    # Initialising unixtime list\n",
    "    unixtime = []\n",
    "    \n",
    "    # Running a loop for converting Date to seconds\n",
    "    for date in df['DateTime']:\n",
    "        unixtime.append(time.mktime(date.timetuple()))\n",
    "    \n",
    "    # Replacing Date with unixtime list\n",
    "    df['DateTime'] = unixtime\n",
    "    return(df)"
   ]
  },
  {
   "cell_type": "code",
   "execution_count": 3,
   "id": "8de19df8",
   "metadata": {},
   "outputs": [],
   "source": [
    "import os\n",
    "import pandas as pd\n",
    "import numpy as np\n",
    "import matplotlib.pyplot as plt\n",
    "from datetime import datetime\n",
    "import time\n",
    "from sklearn.ensemble import ExtraTreesClassifier\n",
    "import operator\n",
    "from sklearn.tree import DecisionTreeClassifier\n",
    "from sklearn.preprocessing import StandardScaler"
   ]
  },
  {
   "cell_type": "code",
   "execution_count": 4,
   "id": "3c258f9f",
   "metadata": {},
   "outputs": [
    {
     "name": "stdout",
     "output_type": "stream",
     "text": [
      "<class 'pandas.core.frame.DataFrame'>\n",
      "RangeIndex: 11808 entries, 0 to 11807\n",
      "Data columns (total 3 columns):\n",
      " #   Column    Non-Null Count  Dtype \n",
      "---  ------    --------------  ----- \n",
      " 0   DateTime  11808 non-null  object\n",
      " 1   Junction  11808 non-null  int64 \n",
      " 2   ID        11808 non-null  int64 \n",
      "dtypes: int64(2), object(1)\n",
      "memory usage: 276.9+ KB\n"
     ]
    }
   ],
   "source": [
    "df_train = pd.read_csv('Train.csv', encoding='ISO-8859-1', engine='c')\n",
    "\n",
    "# read test dataframe\n",
    "# file_path = os.path.join(os.path.abspath(''), '../input/test_BdBKkAj.csv')\n",
    "df_test = pd.read_csv('Test.csv', encoding='ISO-8859-1', engine='c')\n",
    "df_test.info()"
   ]
  },
  {
   "cell_type": "code",
   "execution_count": 5,
   "id": "03f4e637",
   "metadata": {},
   "outputs": [
    {
     "name": "stdout",
     "output_type": "stream",
     "text": [
      "<class 'pandas.core.frame.DataFrame'>\n",
      "RangeIndex: 11808 entries, 0 to 11807\n",
      "Data columns (total 3 columns):\n",
      " #   Column    Non-Null Count  Dtype         \n",
      "---  ------    --------------  -----         \n",
      " 0   DateTime  11808 non-null  datetime64[ns]\n",
      " 1   Junction  11808 non-null  int64         \n",
      " 2   ID        11808 non-null  int64         \n",
      "dtypes: datetime64[ns](1), int64(2)\n",
      "memory usage: 276.9 KB\n"
     ]
    }
   ],
   "source": [
    "df_train['DateTime'] = pd.to_datetime(df_train['DateTime'])\n",
    "df_test['DateTime'] = pd.to_datetime(df_test['DateTime'])\n",
    "df_test.info()"
   ]
  },
  {
   "cell_type": "code",
   "execution_count": 6,
   "id": "f8e70cde",
   "metadata": {},
   "outputs": [],
   "source": [
    "df_test['Weekday'] = [datetime.weekday(date) for date in df_test.DateTime]\n",
    "df_test['Year'] = [date.year for date in df_test.DateTime]\n",
    "df_test['Month'] = [date.month for date in df_test.DateTime]\n",
    "df_test['Day'] = [date.day for date in df_test.DateTime]\n",
    "df_test['Time'] = [((date.hour*60+(date.minute))*60)+date.second for date in df_test.DateTime]\n",
    "df_test['Week'] = [date.week for date in df_test.DateTime]\n",
    "df_test['Quarter'] = [date.quarter for date in df_test.DateTime]\n",
    "\n",
    "# Creating features from DateTime for test data\n",
    "\n",
    "df_train['Weekday'] = [datetime.weekday(date) for date in df_train.DateTime]\n",
    "df_train['Year'] = [date.year for date in df_train.DateTime]\n",
    "df_train['Month'] = [date.month for date in df_train.DateTime]\n",
    "df_train['Day'] = [date.day for date in df_train.DateTime]\n",
    "df_train['Time'] = [((date.hour*60+(date.minute))*60)+date.second for date in df_train.DateTime]\n",
    "df_train['Week'] = [date.week for date in df_train.DateTime]\n",
    "df_train['Quarter'] = [date.quarter for date in df_train.DateTime]"
   ]
  },
  {
   "cell_type": "code",
   "execution_count": 7,
   "id": "9f7b5e8a",
   "metadata": {},
   "outputs": [
    {
     "name": "stdout",
     "output_type": "stream",
     "text": [
      "Feature ranking:\n",
      "feature 0 : DateTime (0.367107)\n",
      "feature 7 : Time (0.349043)\n",
      "feature 6 : Day (0.062458)\n",
      "feature 2 : ID (0.059194)\n",
      "feature 3 : Weekday (0.056554)\n",
      "feature 1 : Junction (0.047748)\n",
      "feature 8 : Week (0.032821)\n",
      "feature 5 : Month (0.016462)\n",
      "feature 9 : Quarter (0.006364)\n",
      "feature 4 : Year (0.002249)\n"
     ]
    },
    {
     "data": {
      "image/png": "[encoded data removed]",
      "text/plain": [
       "<Figure size 432x288 with 1 Axes>"
      ]
     },
     "metadata": {
      "needs_background": "light"
     },
     "output_type": "display_data"
    }
   ],
   "source": [
    "tree_clf = ExtraTreesClassifier()\n",
    "\n",
    "# first create arrays holding input and output data\n",
    "# get the features into an array X\n",
    "# remove target column from the df\n",
    "df_train_features = df_train.drop(['Vehicles'], axis=1)\n",
    "\n",
    "# Convet timestamp to seconds\n",
    "df_train_features = datetounix(df_train_features)\n",
    "\n",
    "# store features in X array\n",
    "X = df_train_features.values\n",
    "\n",
    "# Store target feature in y array\n",
    "y = df_train['Vehicles'].values\n",
    "\n",
    "# fit the model\n",
    "tree_clf.fit(X, y)\n",
    "\n",
    "# Preparing variables\n",
    "importances = tree_clf.feature_importances_\n",
    "feature_names = df_train_features.columns.tolist()\n",
    "\n",
    "feature_imp_dict = dict(zip(feature_names, importances))\n",
    "sorted_features = sorted(feature_imp_dict.items(), key=operator.itemgetter(1), reverse=True)\n",
    "\n",
    "indices = np.argsort(importances)[::-1]\n",
    "\n",
    "# Print the feature ranking\n",
    "print(\"Feature ranking:\")\n",
    "\n",
    "for f in range(X.shape[1]):\n",
    "    print(\"feature %d : %s (%f)\" % (indices[f], sorted_features[f][0], sorted_features[f][1]))\n",
    "\n",
    "# Plot the feature importances of the forest\n",
    "plt.figure(0)\n",
    "plt.title(\"Feature importances\")\n",
    "plt.bar(range(X.shape[1]), importances[indices],\n",
    "       color=\"r\", align=\"center\")\n",
    "plt.xticks(range(X.shape[1]), indices)\n",
    "plt.xlim([-1, X.shape[1]])\n",
    "plt.show()"
   ]
  },
  {
   "cell_type": "code",
   "execution_count": 16,
   "id": "bf3a917f",
   "metadata": {},
   "outputs": [
    {
     "data": {
      "image/png": "[encoded data removed]",
      "text/plain": [
       "<Figure size 432x288 with 1 Axes>"
      ]
     },
     "metadata": {
      "needs_background": "light"
     },
     "output_type": "display_data"
    }
   ],
   "source": [
    "data = df_train.Vehicles\n",
    "binwidth = 1\n",
    "plt.hist(data, bins=range(min(data), max(data) + binwidth, binwidth), log=False)\n",
    "plt.title(\"Gaussian Histogram\")\n",
    "plt.xlabel(\"Traffic\")\n",
    "plt.ylabel(\"Number of times\")\n",
    "plt.show()"
   ]
  },
  {
   "cell_type": "code",
   "execution_count": 18,
   "id": "58cb5340",
   "metadata": {},
   "outputs": [],
   "source": [
    "df_test_features = datetounix(df_test.drop(['Year', 'Quarter', 'Month', 'ID'], axis=1))\n",
    "\n",
    "# Create X_test from the test set\n",
    "\n",
    "X_test = df_test_features.values\n",
    "\n",
    "######################################## Dropping Features from train set #######################\n",
    "\n",
    "df_train_features = df_train.drop(['Vehicles','Year', 'Quarter', 'Month', 'ID'], axis=1)\n",
    "\n",
    "# Convert timestamp to seconds\n",
    "df_train_features = datetounix(df_train_features)\n",
    "\n",
    "# store features in X array\n",
    "X = df_train_features.values\n",
    "\n",
    "# store target in y array\n",
    "y = df_train['Vehicles'].values"
   ]
  },
  {
   "cell_type": "code",
   "execution_count": 19,
   "id": "eccd7e80",
   "metadata": {},
   "outputs": [
    {
     "name": "stdout",
     "output_type": "stream",
     "text": [
      "The time taken to execute is 0.4508702754974365 seconds\n"
     ]
    },
    {
     "data": {
      "text/html": [
       "<div>\n",
       "<style scoped>\n",
       "    .dataframe tbody tr th:only-of-type {\n",
       "        vertical-align: middle;\n",
       "    }\n",
       "\n",
       "    .dataframe tbody tr th {\n",
       "        vertical-align: top;\n",
       "    }\n",
       "\n",
       "    .dataframe thead th {\n",
       "        text-align: right;\n",
       "    }\n",
       "</style>\n",
       "<table border=\"1\" class=\"dataframe\">\n",
       "  <thead>\n",
       "    <tr style=\"text-align: right;\">\n",
       "      <th></th>\n",
       "      <th>ID</th>\n",
       "      <th>Vehicles</th>\n",
       "    </tr>\n",
       "  </thead>\n",
       "  <tbody>\n",
       "    <tr>\n",
       "      <th>0</th>\n",
       "      <td>20170701001</td>\n",
       "      <td>53</td>\n",
       "    </tr>\n",
       "    <tr>\n",
       "      <th>1</th>\n",
       "      <td>20170701011</td>\n",
       "      <td>71</td>\n",
       "    </tr>\n",
       "    <tr>\n",
       "      <th>2</th>\n",
       "      <td>20170701021</td>\n",
       "      <td>37</td>\n",
       "    </tr>\n",
       "    <tr>\n",
       "      <th>3</th>\n",
       "      <td>20170701031</td>\n",
       "      <td>39</td>\n",
       "    </tr>\n",
       "    <tr>\n",
       "      <th>4</th>\n",
       "      <td>20170701041</td>\n",
       "      <td>31</td>\n",
       "    </tr>\n",
       "    <tr>\n",
       "      <th>...</th>\n",
       "      <td>...</td>\n",
       "      <td>...</td>\n",
       "    </tr>\n",
       "    <tr>\n",
       "      <th>11803</th>\n",
       "      <td>20171031194</td>\n",
       "      <td>30</td>\n",
       "    </tr>\n",
       "    <tr>\n",
       "      <th>11804</th>\n",
       "      <td>20171031204</td>\n",
       "      <td>30</td>\n",
       "    </tr>\n",
       "    <tr>\n",
       "      <th>11805</th>\n",
       "      <td>20171031214</td>\n",
       "      <td>16</td>\n",
       "    </tr>\n",
       "    <tr>\n",
       "      <th>11806</th>\n",
       "      <td>20171031224</td>\n",
       "      <td>22</td>\n",
       "    </tr>\n",
       "    <tr>\n",
       "      <th>11807</th>\n",
       "      <td>20171031234</td>\n",
       "      <td>12</td>\n",
       "    </tr>\n",
       "  </tbody>\n",
       "</table>\n",
       "<p>11808 rows × 2 columns</p>\n",
       "</div>"
      ],
      "text/plain": [
       "                ID  Vehicles\n",
       "0      20170701001        53\n",
       "1      20170701011        71\n",
       "2      20170701021        37\n",
       "3      20170701031        39\n",
       "4      20170701041        31\n",
       "...            ...       ...\n",
       "11803  20171031194        30\n",
       "11804  20171031204        30\n",
       "11805  20171031214        16\n",
       "11806  20171031224        22\n",
       "11807  20171031234        12\n",
       "\n",
       "[11808 rows x 2 columns]"
      ]
     },
     "execution_count": 19,
     "metadata": {},
     "output_type": "execute_result"
    }
   ],
   "source": [
    "df_solution = pd.DataFrame()\n",
    "df_solution['ID'] = df_test.ID\n",
    "\n",
    "# Starting time for time calculations\n",
    "start_time = time.time()\n",
    "\n",
    "# Create decision tree object\n",
    "clf = DecisionTreeClassifier(criterion='gini', random_state = 13)\n",
    "\n",
    "# fit the model\n",
    "clf.fit(X, y)\n",
    "\n",
    "# predict the outcome for testing data\n",
    "predictions = clf.predict(X_test)\n",
    "\n",
    "print(\"The time taken to execute is %s seconds\" % (time.time() - start_time))\n",
    "\n",
    "# Prepare Solution dataframe\n",
    "df_solution['Vehicles'] = predictions\n",
    "df_solution"
   ]
  },
  {
   "cell_type": "code",
   "execution_count": 20,
   "id": "c9b75d80",
   "metadata": {},
   "outputs": [
    {
     "data": {
      "text/html": [
       "<div>\n",
       "<style scoped>\n",
       "    .dataframe tbody tr th:only-of-type {\n",
       "        vertical-align: middle;\n",
       "    }\n",
       "\n",
       "    .dataframe tbody tr th {\n",
       "        vertical-align: top;\n",
       "    }\n",
       "\n",
       "    .dataframe thead th {\n",
       "        text-align: right;\n",
       "    }\n",
       "</style>\n",
       "<table border=\"1\" class=\"dataframe\">\n",
       "  <thead>\n",
       "    <tr style=\"text-align: right;\">\n",
       "      <th></th>\n",
       "      <th>Junction</th>\n",
       "      <th>Vehicles</th>\n",
       "      <th>ID</th>\n",
       "    </tr>\n",
       "  </thead>\n",
       "  <tbody>\n",
       "    <tr>\n",
       "      <th>0</th>\n",
       "      <td>1</td>\n",
       "      <td>15</td>\n",
       "      <td>20151101001</td>\n",
       "    </tr>\n",
       "    <tr>\n",
       "      <th>1</th>\n",
       "      <td>1</td>\n",
       "      <td>13</td>\n",
       "      <td>20151101011</td>\n",
       "    </tr>\n",
       "    <tr>\n",
       "      <th>2</th>\n",
       "      <td>1</td>\n",
       "      <td>10</td>\n",
       "      <td>20151101021</td>\n",
       "    </tr>\n",
       "    <tr>\n",
       "      <th>3</th>\n",
       "      <td>1</td>\n",
       "      <td>7</td>\n",
       "      <td>20151101031</td>\n",
       "    </tr>\n",
       "    <tr>\n",
       "      <th>4</th>\n",
       "      <td>1</td>\n",
       "      <td>9</td>\n",
       "      <td>20151101041</td>\n",
       "    </tr>\n",
       "    <tr>\n",
       "      <th>...</th>\n",
       "      <td>...</td>\n",
       "      <td>...</td>\n",
       "      <td>...</td>\n",
       "    </tr>\n",
       "    <tr>\n",
       "      <th>59923</th>\n",
       "      <td>4</td>\n",
       "      <td>30</td>\n",
       "      <td>20171031194</td>\n",
       "    </tr>\n",
       "    <tr>\n",
       "      <th>59924</th>\n",
       "      <td>4</td>\n",
       "      <td>30</td>\n",
       "      <td>20171031204</td>\n",
       "    </tr>\n",
       "    <tr>\n",
       "      <th>59925</th>\n",
       "      <td>4</td>\n",
       "      <td>16</td>\n",
       "      <td>20171031214</td>\n",
       "    </tr>\n",
       "    <tr>\n",
       "      <th>59926</th>\n",
       "      <td>4</td>\n",
       "      <td>22</td>\n",
       "      <td>20171031224</td>\n",
       "    </tr>\n",
       "    <tr>\n",
       "      <th>59927</th>\n",
       "      <td>4</td>\n",
       "      <td>12</td>\n",
       "      <td>20171031234</td>\n",
       "    </tr>\n",
       "  </tbody>\n",
       "</table>\n",
       "<p>59928 rows × 3 columns</p>\n",
       "</div>"
      ],
      "text/plain": [
       "       Junction  Vehicles           ID\n",
       "0             1        15  20151101001\n",
       "1             1        13  20151101011\n",
       "2             1        10  20151101021\n",
       "3             1         7  20151101031\n",
       "4             1         9  20151101041\n",
       "...         ...       ...          ...\n",
       "59923         4        30  20171031194\n",
       "59924         4        30  20171031204\n",
       "59925         4        16  20171031214\n",
       "59926         4        22  20171031224\n",
       "59927         4        12  20171031234\n",
       "\n",
       "[59928 rows x 3 columns]"
      ]
     },
     "execution_count": 20,
     "metadata": {},
     "output_type": "execute_result"
    }
   ],
   "source": [
    "df_pred = pd.DataFrame(df_solution)\n",
    "df_pred['new_index'] = [n for n in range(48120, 59928)]\n",
    "df_pred.set_index('new_index', inplace = True)\n",
    "df = pd.merge(df_test.drop(['DateTime', 'Weekday', 'Year', 'Month', 'Day', 'Time', 'Week', 'Quarter'], axis = 1), df_pred, \n",
    "              how='inner', on = 'ID')\n",
    "df.set_index(df_pred.index, inplace = True)\n",
    "frames = [df_train.drop(['DateTime', 'Weekday', 'Year', 'Month', 'Day', 'Time', 'Week', 'Quarter'], axis = 1), df]\n",
    "df = pd.concat(frames)\n",
    "df"
   ]
  },
  {
   "cell_type": "code",
   "execution_count": 21,
   "id": "5a6a600b",
   "metadata": {},
   "outputs": [
    {
     "data": {
      "text/plain": [
       "<AxesSubplot:>"
      ]
     },
     "execution_count": 21,
     "metadata": {},
     "output_type": "execute_result"
    },
    {
     "data": {
      "image/png": "[encoded data removed]",
      "text/plain": [
       "<Figure size 432x288 with 1 Axes>"
      ]
     },
     "metadata": {
      "needs_background": "light"
     },
     "output_type": "display_data"
    }
   ],
   "source": [
    "df[df['Junction'] == 1]['Vehicles'].plot(legend=True, label='Junction1')"
   ]
  },
  {
   "cell_type": "code",
   "execution_count": 22,
   "id": "ab4c9f2a",
   "metadata": {},
   "outputs": [
    {
     "data": {
      "text/plain": [
       "<AxesSubplot:xlabel='new_index'>"
      ]
     },
     "execution_count": 22,
     "metadata": {},
     "output_type": "execute_result"
    },
    {
     "data": {
      "image/png": "[encoded data removed]",
      "text/plain": [
       "<Figure size 1080x720 with 1 Axes>"
      ]
     },
     "metadata": {
      "needs_background": "light"
     },
     "output_type": "display_data"
    }
   ],
   "source": [
    "df_train['Vehicles'].plot(legend=True, label='Training Data', figsize=(15,10))\n",
    "df_pred['Vehicles'].plot(legend=True, label='Prediction')"
   ]
  },
  {
   "cell_type": "code",
   "execution_count": null,
   "id": "9fde7442",
   "metadata": {},
   "outputs": [],
   "source": []
  }
 ],
 "metadata": {
  "kernelspec": {
   "display_name": "Python 3 (ipykernel)",
   "language": "python",
   "name": "python3"
  },
  "language_info": {
   "codemirror_mode": {
    "name": "ipython",
    "version": 3
   },
   "file_extension": ".py",
   "mimetype": "text/x-python",
   "name": "python",
   "nbconvert_exporter": "python",
   "pygments_lexer": "ipython3",
   "version": "3.9.7"
  }
 },
 "nbformat": 4,
 "nbformat_minor": 5
}
